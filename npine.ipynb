{
 "cells": [
  {
   "cell_type": "code",
   "execution_count": 1,
   "metadata": {},
   "outputs": [
    {
     "name": "stderr",
     "output_type": "stream",
     "text": [
      "c:\\Users\\abuza\\anaconda3\\envs\\JDAIB\\Lib\\site-packages\\pinecone\\index.py:4: TqdmWarning: IProgress not found. Please update jupyter and ipywidgets. See https://ipywidgets.readthedocs.io/en/stable/user_install.html\n",
      "  from tqdm.autonotebook import tqdm\n"
     ]
    }
   ],
   "source": [
    "import pinecone\n",
    "import tqdm\n",
    "from langchain.text_splitter import CharacterTextSplitter\n",
    "from langchain.embeddings import OpenAIEmbeddings\n",
    "\n",
    "pinecone.init(      \n",
    "\tapi_key='f0b91127-5366-4d48-a42e-6a79f45e80f6',      \n",
    "\tenvironment='asia-northeast1-gcp'      \n",
    ")      \n",
    "index = pinecone.Index('skills-database')\n",
    "\n",
    "import os\n",
    "from dotenv import load_dotenv\n",
    "\n",
    "load_dotenv(\"C:\\\\Users\\\\abuza\\\\Desktop\\\\jobd\\\\api.env\")\n",
    "API_KEY = os.getenv(\"API_KEY\")\n",
    "os.environ['OPENAI_API_KEY'] = API_KEY"
   ]
  },
  {
   "cell_type": "code",
   "execution_count": 28,
   "metadata": {},
   "outputs": [
    {
     "data": {
      "text/plain": [
       "['Data Science\\n\\n--Data Scientists Generalists: Good with programming (Python or R), data manipulation (e.g., pandas), basic SQL, statistics, business acumen, building basic ML algorithms and models, and basic data visualization (Tableau, etc.).\\n\\n--Data Scientists with Data Engineering Skills: Proficient with data management tools, ETL processes, Data pipeline creation and optimization, big data tools (e.g., Hadoop, Spark), and perhaps less knowledge of pure statistics and ML algorithms.\\n\\n--Data Scientists with Stakeholder Management: Strong business acumen, domain knowledge, stakeholder relationship management, ability to translate technical findings to nontechnical audiences, and potentially less hands-on with ML modeling and coding\\n\\n--Data Scientists Specializing in ML: Strong in ML and coding. Can build and possibly deploy ML models but may not be as focused on stakeholder management or business understanding. Proficiency in ML frameworks (e.g., scikit-learn, TensorFlow), Model evaluation and tuning, Model deployment, and familiarity with a variety of algorithms (classification, regression, clustering).\\n\\n--Data Scientists with a Focus on Statistics: Emphasis on statistics, A/B testing, hypothesis testing, causal inference, etc. Potentially less coding or ML modeling.\\n\\n--Data Scientist, Business Intelligence (BI): Focused on reporting, BI tools (e.g., Tableau, PowerBI, QlikView), Strong SQL skills, business analysis, business metrics and KPI understanding, Dashboard design and deployment, and potentially less statistics and ML molding.\\n\\n--Quantitative Researchers: Specializes in building quantitative models, algorithmic trading strategies, risk management, and financial modeling and forecasting often for financial markets.\\n',\n",
       " 'Machine Learning\\n\\n--ML Engineer Generalist:\\n\\nBroad ML Toolkit: Familiarity with a variety of machine learning algorithms, from supervised learning (e.g., regression, classification) to unsupervised learning (e.g., clustering, dimensionality reduction) and reinforcement learning.\\n\\nCoding Proficiency: Strong programming skills, typically in Python or another ML-relevant language (C++, Java, etc.), and familiarity with multiple ML libraries and frameworks like scikit-learn, TensorFlow, and PyTorch.\\n\\nData Handling: Skills in data preprocessing, cleaning, and transformation. Comfortable with tools for data manipulation like Pandas, and databases or data storage systems like SQL, NoSQL, Hadoop, or Spark. Some knowledge of cloud Platforms: AWS, Microsoft Azure, and Google Cloud.\\n\\nModel Deployment & Monitoring: model deployment, monitoring performance, Model Evaluation, Model Optimization, Hyperparameter Tuning, Regularization, and Model Training Techniques\\n\\n--ML Engineer with MLOps: \\n\\nSkilled in deploying ML models into production, infrastructure. Perhaps less involved in initial data manipulation or pure statistics.\\n\\nKnowledge of deployment tools (e.g., Docker, Kubernetes)\\n\\nContinuous integration and continuous deployment (CI/CD) practices\\n\\nFamiliarity with cloud platforms (e.g., AWS, Azure, GCP)\\n\\nScalability and performance optimization\\n\\nMonitoring and maintaining ML models in production\\n\\n--ML Researchers: \\n\\nDeep understanding of ML algorithms, strong in statistics, less focused on the practical deployment of ML models in a production environment or MLOps.\\n\\nDeep understanding of advanced ML algorithms\\n\\nFamiliarity with academic research and publications in the field\\n\\nAdvanced statistics and mathematical skills\\n\\nExperience with deep learning frameworks (e.g., TensorFlow, PyTorch)\\n\\nAbility to innovate and explore new methodologies\\n\\n--ML Engineers with Strong Software Skills: \\n\\nExcellent coding abilities in languages like Java, C++, Scala, Pyspark, and/or Python. Relies more on existing ML libraries, and less depth in statistics and building ML models from scratch.\\n\\nProficiency in multiple programming languages (e.g., Java, C++, Python)\\n\\nSoftware development best practices (e.g., version control, testing)\\n\\nIntegration of ML libraries and APIs\\n\\nSystem design and architecture understanding\\n\\nFamiliarity with distributed computing\\n\\n--ML Engineer with Data Science Skills: \\n\\nBalanced skills in statistics, data manipulation, prototyping, and potentially less involved in large-scale production deployments.\\n\\nSolid grounding in statistics and data analysis\\n\\nData preprocessing and transformation\\n\\nBusiness acumen\\n\\n--Deep Learning Engineer: \\n\\nFocused on neural networks and deep learning models, potentially using frameworks like TensorFlow or PyTorch.\\n\\nExpertise in deep learning architectures (e.g., CNN, RNN, Transformers)\\n\\nProficiency with deep learning frameworks (e.g., TensorFlow, PyTorch, Keras, MXNet, Caffe)\\n\\nGPU optimization and parallel processing\\n\\nTransfer learning and fine-tuning models\\n\\nAdvanced neural network tuning\\n\\nProgramming: Python, C++\\n\\nTechniques & Models:\\n\\nNeural Networks\\n\\nRNN, LSTM, GRU\\n\\nTransformer Architectures\\n\\nAttention Mechanisms\\n\\nAutoencoders, Variational Autoencoders\\n\\n--Cloud Platforms: \\n\\nAWS Sagemaker, Google AI Platform\\n\\n-NLP (Natural Language Processing) Specialists:\\n\\nText preprocessing (e.g., tokenization, POS tagging)\\n\\nNLP Libraries & Frameworks: NLTK, SpaCy, Gensim, Transformer Libraries (Hugging Face)\\n\\nUnderstanding of language models (e.g., BERT, GPT)\\n\\nSentiment analysis, topic modeling, and entity recognition\\n\\nTechniques & Models:\\n\\nTokenization, Stemming, Lemmatization\\n\\nBag of Words, TF-IDF\\n\\nWord2Vec, FastText, GloVe\\n\\nTransformers: BERT, GPT, T5, etc.\\n\\nSequence-to-Sequence Models\\n\\nAttention Mechanisms\\n\\nCloud Platforms: AWS (Comprehend, Translate), Google Cloud (Natural Language)\\n\\n--Computer Vision Specialists:\\n\\nProgramming: Python, C++\\n\\nComputer Vision Libraries & Frameworks: OpenCV, Pillow, ImageAI\\n\\nTechniques & Models:\\n\\nConvolutional Neural Networks (CNN)\\n\\nTransfer Learning\\n\\nImage Classification, Segmentation, Detection\\n\\nGenerative Adversarial Networks (GAN)\\n\\nObject Detection models: YOLO, SSD, Faster R-CNN\\n\\nDatasets & Annotation Tools: COCO, ImageNet, Labelbox, VGG Image Annotato\\n\\n--MLOps:\\n\\nProgramming: Python, YAML (for CI/CD configuration)\\n\\nTechniques & Tools:\\n\\nContinuous Integration and Continuous Deployment (CI/CD) for ML: Jenkins, GitLab CI, GitHub Actions\\n\\nModel Monitoring: Prometheus, Grafana\\n\\nModel Versioning: DVC, MLflow\\n\\nExperiment Tracking: WandB, TensorBoard\\n\\nDeployment: Docker, Kubernetes, Seldon, TFX\\n\\nFeature Stores: Feast, Tecton\\n\\n--On-Device/Embedded ML Engineer:\\n\\nProgramming: C, C++\\n\\nEfficient low-level languages for constrained devices.\\n\\nFrameworks & Tools: TensorFlow Lite, CoreML, ONNX, TinyML\\n\\nFor building lightweight models suitable for mobile and embedded devices.\\n\\n--Reinforcement Learning Engineer:\\n\\nTools & Libraries: OpenAI Gym, Deep Q-Networks, Policy Gradients, A3C, PPO\\n',\n",
       " 'Data Engineer\\n\\n--Data Engineering Expert\\n\\nDatabases: SQL (MySQL, PostgreSQL), NoSQL (MongoDB, Cassandra), Distributed (Hadoop, Spark)\\n',\n",
       " 'Data Analyst\\n\\n--Data Visualization Experts:\\n\\nProficiency in visualization libraries (e.g., D3.js, Matplotlib)\\n\\nData storytelling and narrative creation\\n\\nInteractive visualization design\\n\\nIntegration of visualizations into web or applications\\n\\nColor theory and design principles\\n\\n--Data Analysts:\\n\\nStrong SQL querying skills\\n\\nData cleaning and munging\\n\\nBasic statistical analysis\\n\\nReporting and insights derivation\\n\\nExperience with analytics platforms (e.g., Google Analytics)\\n\\n--Cybersecurity Data Analysts:\\n\\nIntrusion detection systems and their logs\\n\\nNetwork traffic analysis\\n\\nMalware detection and analysis\\n\\nBehavioral analytics for cybersecurity\\n\\nThreat intelligence and landscape analysis\\n',\n",
       " 'AI Experts\\n\\n--AI Ethics and Fairness Experts:\\n\\nUnderstanding of biases in AI and mitigation techniques\\n\\nEthical considerations in model deployment\\n\\nTransparency and interpretability methods\\n\\nRegulatory and compliance knowledge related to AI\\n\\nStakeholder communication on ethical concerns\\n\\n--Chatbot and Conversational AI Developers:\\n\\nDialogue system architectures\\n\\nIntent recognition and slot filling\\n\\nConversational flow design\\n\\nIntegration with messaging platforms (e.g., Messenger, Slack)\\n\\nVoice recognition and processing\\n\\n--Edge AI Specialists:\\n\\nModel quantization and optimization for edge devices\\n\\nEdge computing platforms (e.g., AWS Greengrass)\\n\\nReal-time data processing at the edge\\n\\nEnergy-efficient ML\\n\\nOn-device learning techniques\\n',\n",
       " 'Roboticist\\n\\n--Robotics Expert Generalist:\\n\\nProgramming: Python, C++, ROS (Robot Operating System)\\n\\nRobotics Frameworks & Libraries: ROS, Gazebo\\n\\nTechniques & Tools:\\n\\nSLAM (Simultaneous Localization and Mapping)\\n\\nPath Planning Algorithms\\n\\nSensor Fusion\\n\\nPID Control\\n\\nReinforcement Learning for Robotics\\n\\nRobotics Hardware Knowledge: Actuators, Sensors, Embedded Systems\\n\\n--Robotic Process Automation (RPA) Experts:\\n\\nFamiliarity with RPA tools (e.g., UiPath, Blue Prism)\\n\\nProcess mapping and optimization\\n\\nIntegration of AI/ML into automated processes\\n\\nBot lifecycle management\\n\\nDebugging and error handling in automation scenarios']"
      ]
     },
     "execution_count": 28,
     "metadata": {},
     "output_type": "execute_result"
    }
   ],
   "source": [
    "def read_and_separate_roles(file_path):\n",
    "    with open(file_path, 'r') as file:\n",
    "        data = file.read()\n",
    "    \n",
    "    # Split the data into individual roles based on two newline characters\n",
    "    role = data.split('\\n---')\n",
    "    return role\n",
    "def make_embeddings(string):\n",
    "    embeddings = OpenAIEmbeddings()\n",
    "    result = embeddings.embed_documents(texts=string)\n",
    "    return result[0]\n",
    "\n",
    "# Provide the file path to your text file\n",
    "file_path = 'database.txt'\n",
    "\n",
    "# Read and separate the roles\n",
    "roles = read_and_separate_roles(file_path)\n",
    "roles\n",
    "# roles[2].split(':')[0]"
   ]
  },
  {
   "cell_type": "code",
   "execution_count": 33,
   "metadata": {},
   "outputs": [
    {
     "name": "stdout",
     "output_type": "stream",
     "text": [
      "['Data Scientists Generalists: Good with programming (Python or R), data manipulation (e.g., pandas), basic SQL, statistics, business acumen, building basic ML algorithms and models, and basic data visualization (Tableau, etc.).\\n\\n', 'Data Scientists with Data Engineering Skills: Proficient with data management tools, ETL processes, Data pipeline creation and optimization, big data tools (e.g., Hadoop, Spark), and perhaps less knowledge of pure statistics and ML algorithms.\\n\\n', 'Data Scientists with Stakeholder Management: Strong business acumen, domain knowledge, stakeholder relationship management, ability to translate technical findings to nontechnical audiences, and potentially less hands-on with ML modeling and coding\\n\\n', 'Data Scientists Specializing in ML: Strong in ML and coding. Can build and possibly deploy ML models but may not be as focused on stakeholder management or business understanding. Proficiency in ML frameworks (e.g., scikit-learn, TensorFlow), Model evaluation and tuning, Model deployment, and familiarity with a variety of algorithms (classification, regression, clustering).\\n\\n', 'Data Scientists with a Focus on Statistics: Emphasis on statistics, A/B testing, hypothesis testing, causal inference, etc. Potentially less coding or ML modeling.\\n\\n', 'Data Scientist, Business Intelligence (BI): Focused on reporting, BI tools (e.g., Tableau, PowerBI, QlikView), Strong SQL skills, business analysis, business metrics and KPI understanding, Dashboard design and deployment, and potentially less statistics and ML molding.\\n\\n', 'Quantitative Researchers: Specializes in building quantitative models, algorithmic trading strategies, risk management, and financial modeling and forecasting often for financial markets.\\n']\n",
      "role: D\n",
      "['Data Scientists Generalists: Good with programming (Python or R), data manipulation (e.g., pandas), basic SQL, statistics, business acumen, building basic ML algorithms and models, and basic data visualization (Tableau, etc.).\\n\\n', 'Data Scientists with Data Engineering Skills: Proficient with data management tools, ETL processes, Data pipeline creation and optimization, big data tools (e.g., Hadoop, Spark), and perhaps less knowledge of pure statistics and ML algorithms.\\n\\n', 'Data Scientists with Stakeholder Management: Strong business acumen, domain knowledge, stakeholder relationship management, ability to translate technical findings to nontechnical audiences, and potentially less hands-on with ML modeling and coding\\n\\n', 'Data Scientists Specializing in ML: Strong in ML and coding. Can build and possibly deploy ML models but may not be as focused on stakeholder management or business understanding. Proficiency in ML frameworks (e.g., scikit-learn, TensorFlow), Model evaluation and tuning, Model deployment, and familiarity with a variety of algorithms (classification, regression, clustering).\\n\\n', 'Data Scientists with a Focus on Statistics: Emphasis on statistics, A/B testing, hypothesis testing, causal inference, etc. Potentially less coding or ML modeling.\\n\\n', 'Data Scientist, Business Intelligence (BI): Focused on reporting, BI tools (e.g., Tableau, PowerBI, QlikView), Strong SQL skills, business analysis, business metrics and KPI understanding, Dashboard design and deployment, and potentially less statistics and ML molding.\\n\\n', 'Quantitative Researchers: Specializes in building quantitative models, algorithmic trading strategies, risk management, and financial modeling and forecasting often for financial markets.\\n']\n"
     ]
    }
   ],
   "source": [
    "i = 0\n",
    "for role in roles:\n",
    "    namespace = role.split(\"\\n\\n\")[0]\n",
    "    #print(namespace)\n",
    "    n = role.split('--')[1:]\n",
    "    print(n)\n",
    "    # print(len(n))\n",
    "    for subrole in n:\n",
    "        role = subrole[i].split(':')[0]\n",
    "        print(f'role: {role}')\n",
    "        print (n)\n",
    "        i = i+1\n",
    "        break\n",
    "    break\n",
    "\n",
    "    #     index.upsert([\n",
    "    #     (f'id-{i}', make_embeddings(role[i]), {'role_title': role, 'description': roles[i]})\n",
    "    #     ], namespace=namespace)\n",
    "\n",
    "\n",
    "    # # print (namespace)\n"
   ]
  }
 ],
 "metadata": {
  "kernelspec": {
   "display_name": "JDAIB",
   "language": "python",
   "name": "python3"
  },
  "language_info": {
   "codemirror_mode": {
    "name": "ipython",
    "version": 3
   },
   "file_extension": ".py",
   "mimetype": "text/x-python",
   "name": "python",
   "nbconvert_exporter": "python",
   "pygments_lexer": "ipython3",
   "version": "3.11.5"
  }
 },
 "nbformat": 4,
 "nbformat_minor": 2
}
